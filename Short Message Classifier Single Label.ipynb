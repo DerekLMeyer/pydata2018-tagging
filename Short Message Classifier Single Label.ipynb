{
 "cells": [
  {
   "cell_type": "markdown",
   "metadata": {},
   "source": [
    "# Message Classifier, Multi Class, Single Label\n",
    "Gilbert François Duivesteijn (gilbert@deep-impact.ch)\n"
   ]
  },
  {
   "cell_type": "markdown",
   "metadata": {},
   "source": [
    "<img src=\"images/dt010612.gif\" width=800>"
   ]
  },
  {
   "cell_type": "code",
   "execution_count": 1,
   "metadata": {},
   "outputs": [],
   "source": [
    "import os\n",
    "import pickle as pkl\n",
    "import re\n",
    "import string\n",
    "\n",
    "import matplotlib.pyplot as plt\n",
    "import nltk\n",
    "from nltk import tokenize\n",
    "import numpy as np\n",
    "import pandas as pd\n",
    "from sklearn.feature_extraction.text import CountVectorizer\n",
    "from sklearn.feature_extraction.text import TfidfTransformer\n",
    "from sklearn.metrics import classification_report\n",
    "from sklearn.metrics import confusion_matrix\n",
    "from sklearn.metrics import precision_recall_curve\n",
    "\n",
    "from sklearn.model_selection import GridSearchCV\n",
    "from sklearn.model_selection import cross_val_score\n",
    "from sklearn.model_selection import train_test_split\n",
    "from sklearn.multiclass import OneVsRestClassifier\n",
    "from sklearn.multiclass import OneVsOneClassifier\n",
    "from sklearn.pipeline import Pipeline\n",
    "from sklearn.preprocessing import MultiLabelBinarizer\n",
    "from sklearn.preprocessing import OneHotEncoder\n",
    "from sklearn.svm import LinearSVC\n",
    "from sklearn.svm import SVC\n",
    "from sklearn.ensemble import RandomForestClassifier\n",
    "\n",
    "from lib.utils import plot_confusion_matrix\n",
    "\n",
    "import matplotlib.pyplot as plt\n",
    "import matplotlib.cm as cm\n",
    "from matplotlib.colors import ListedColormap, BoundaryNorm\n",
    "from sklearn import neighbors\n",
    "import matplotlib.patches as mpatches"
   ]
  },
  {
   "cell_type": "code",
   "execution_count": 2,
   "metadata": {},
   "outputs": [],
   "source": [
    "np.set_printoptions(precision=3, linewidth=100)\n",
    "%matplotlib notebook"
   ]
  },
  {
   "cell_type": "code",
   "execution_count": 3,
   "metadata": {},
   "outputs": [
    {
     "name": "stdout",
     "output_type": "stream",
     "text": [
      "[nltk_data] Downloading package stopwords to\n",
      "[nltk_data]     /Users/gilbert/nltk_data...\n",
      "[nltk_data]   Package stopwords is already up-to-date!\n",
      "[nltk_data] Downloading package punkt to /Users/gilbert/nltk_data...\n",
      "[nltk_data]   Package punkt is already up-to-date!\n"
     ]
    },
    {
     "data": {
      "text/plain": [
       "True"
      ]
     },
     "execution_count": 3,
     "metadata": {},
     "output_type": "execute_result"
    }
   ],
   "source": [
    "nltk.download('stopwords')\n",
    "nltk.download('punkt')"
   ]
  },
  {
   "cell_type": "markdown",
   "metadata": {},
   "source": [
    "## Library functions"
   ]
  },
  {
   "cell_type": "code",
   "execution_count": 4,
   "metadata": {},
   "outputs": [],
   "source": [
    "stemmer = nltk.PorterStemmer()\n",
    "analyzer = CountVectorizer().build_analyzer()\n",
    "\n",
    "\n",
    "def stemmed(doc):\n",
    "    return [stemmer.stem(w) for w in analyzer(doc)]\n",
    "\n",
    "\n",
    "def no_stemmed(doc):\n",
    "    return [w for w in analyzer(doc)]\n",
    "\n",
    "\n",
    "def mask_integers(s):\n",
    "    return re.sub(r'\\d+', '_INT', s)\n",
    "\n",
    "\n",
    "def mask_times(text):\n",
    "    \"\"\"\n",
    "    Replaces times written like 12:50, 1PM, 4:15am, etc to _time token.\n",
    "    :param    text    Input text\n",
    "    :return           Output text with replaced times.\n",
    "    \"\"\"\n",
    "    re_time1 = '\\d{1,2}[:.]\\d{2}(?:am|pm|AM|PM)'\n",
    "    re_time2 = '\\d{1,2}[:.]\\d{2}'\n",
    "    re_time3 = '\\d{1,2}(?:am|pm|AM|PM)'\n",
    "    rec_time = re.compile(re_time1 + '|' + re_time2 + '|' + re_time3)\n",
    "    return re.sub(rec_time, '_TIME', text)\n",
    "\n",
    "\n",
    "def mask_emojis(text):\n",
    "    \"\"\"\n",
    "    Replaces all different emojis to _emoji token.\n",
    "    :param    text    Input text\n",
    "    :return           Output text with replaced emojis.    \n",
    "    \"\"\"\n",
    "    re_icons = ':[a-z-_]*:'\n",
    "    re_ldsd = '\\<(.*?)\\>'\n",
    "    rec_icons = re.compile(re_icons + \"|\" + re_ldsd)\n",
    "    return re.sub(rec_icons, '_EMOJI', text)\n",
    "\n",
    "\n",
    "def mask_all(text):\n",
    "    text = mask_times(text)\n",
    "    text = mask_emojis(text)\n",
    "    text = mask_integers(text)\n",
    "    return text\n",
    "\n",
    "\n",
    "def train_and_test(steps, X_train, X_test, y_train, y_test):\n",
    "    \"\"\"\n",
    "    Trains and tests the pipeline with the given steps. \n",
    "    :param steps:       List of operations inside the pipeline.\n",
    "    :param X_train:     Training data\n",
    "    :param X_test:      Training labels\n",
    "    :param y_train:     Testing data\n",
    "    :param y_test:      Testing labels\n",
    "    :return:            Trained model\n",
    "    \"\"\"\n",
    "    pipeline = Pipeline(steps)\n",
    "    folds = 10\n",
    "    xval_score = cross_val_score(pipeline, X_train, y_train, cv=folds, n_jobs=-1)\n",
    "    \n",
    "    xv_min = np.min(xval_score)\n",
    "    xv_max = np.max(xval_score)\n",
    "    xv_mean = np.mean(xval_score)\n",
    "    xv_std = np.std(xval_score)\n",
    "    print('{} fold Cross Validation Score: <{:.2f}, {:.2f}>; µ={:.2f}'.format(folds, xv_min, xv_max, xv_mean))\n",
    "    pipeline = pipeline.fit(X_train, y_train)\n",
    "    print('Score on test set: {:.2f}'.format(pipeline.score(X_test, y_test)))\n",
    "    return pipeline\n",
    "\n",
    "\n",
    "def tag_message(pipeline, message):\n",
    "    y_pred = pipeline.predict([message])[0]\n",
    "    print('{:>20} | {}'.format(dict_classes[y_pred], message))"
   ]
  },
  {
   "cell_type": "markdown",
   "metadata": {},
   "source": [
    "Challenges:\n",
    "- Real data, not easy separable in different classes.\n",
    "- Multi class classification, more difficult than binary classification.\n",
    "- Small dataset, not a lot of samples to train and test.\n",
    "- Number of samples are not equally divided over the classes."
   ]
  },
  {
   "cell_type": "markdown",
   "metadata": {},
   "source": [
    "| Class | Description                                       |\n",
    "| ----- | ------------------------------------------------- |\n",
    "| 1     | Too late, away during office hours or early leave |\n",
    "| 2     | Holidays or scheduled free days                   |\n",
    "| 3     | Home Office                                       |\n",
    "| 4     | Medical appointment                               |\n",
    "| 5     | Ill, without consulting a medical                 |\n",
    "| 6     | Work related absence (at client, conference)      |\n",
    "| 7     | In office announcement                            |\n",
    "| 8     | Miscellanious                                     |"
   ]
  },
  {
   "cell_type": "code",
   "execution_count": 5,
   "metadata": {},
   "outputs": [],
   "source": [
    "dict_classes = {\n",
    "    1: 'late/early',\n",
    "    2: 'holidays',\n",
    "    3: 'home office',\n",
    "    4: 'med app',\n",
    "    5: 'ill',\n",
    "    6: 'business',\n",
    "    7: 'in office',\n",
    "    8: 'miscellanious'\n",
    "}"
   ]
  },
  {
   "cell_type": "markdown",
   "metadata": {},
   "source": [
    "## Vector Space Model (VSM)\n",
    "\n",
    "### Vectorizer\n",
    "\n",
    "Before we can use the text messages to train a classifier, we have to transform text into numbers. "
   ]
  },
  {
   "cell_type": "code",
   "execution_count": 6,
   "metadata": {
    "scrolled": false
   },
   "outputs": [
    {
     "data": {
      "text/plain": [
       "{'don': 3,\n",
       " 'want': 11,\n",
       " 'mad': 6,\n",
       " 'people': 8,\n",
       " 'alice': 0,\n",
       " 'remarked': 9,\n",
       " 'oh': 7,\n",
       " 'help': 4,\n",
       " 'said': 10,\n",
       " 'cat': 1,\n",
       " 'know': 5,\n",
       " 'wouldn': 12,\n",
       " 'come': 2}"
      ]
     },
     "execution_count": 6,
     "metadata": {},
     "output_type": "execute_result"
    }
   ],
   "source": [
    "documents = [\n",
    "    \"But I don’t want to go among mad people, Alice remarked.\",\n",
    "    \"Oh, you can’t help that, said the Cat: we’re all mad here. I’m mad. You’re mad.\",\n",
    "    \"How do you know I’m mad? said Alice.\",\n",
    "    \"You must be, said the Cat, or you wouldn’t have come here.\"\n",
    "]\n",
    "\n",
    "vectorizer = CountVectorizer(stop_words='english')\n",
    "# vectorizer = CountVectorizer(tokenizer=nltk.tokenize.word_tokenize, stop_words='english', strip_accents='unicode')\n",
    "X = vectorizer.fit_transform(documents)\n",
    "vectorizer.vocabulary_"
   ]
  },
  {
   "cell_type": "markdown",
   "metadata": {},
   "source": [
    "It creates vector for every document:"
   ]
  },
  {
   "cell_type": "code",
   "execution_count": 7,
   "metadata": {},
   "outputs": [
    {
     "data": {
      "text/plain": [
       "array([[1, 0, 0, 1, 0, 0, 1, 0, 1, 1, 0, 1, 0],\n",
       "       [0, 1, 0, 0, 1, 0, 3, 1, 0, 0, 1, 0, 0],\n",
       "       [1, 0, 0, 0, 0, 1, 1, 0, 0, 0, 1, 0, 0],\n",
       "       [0, 1, 1, 0, 0, 0, 0, 0, 0, 0, 1, 0, 1]], dtype=int64)"
      ]
     },
     "execution_count": 7,
     "metadata": {},
     "output_type": "execute_result"
    }
   ],
   "source": [
    "X.toarray()"
   ]
  },
  {
   "cell_type": "markdown",
   "metadata": {},
   "source": [
    "When transforming a text with unknown words, like `cat` in this example, vector is empty."
   ]
  },
  {
   "cell_type": "code",
   "execution_count": 8,
   "metadata": {},
   "outputs": [
    {
     "data": {
      "text/plain": [
       "array([[0, 1, 0, 0, 0, 0, 0, 0, 0, 0, 0, 0, 0],\n",
       "       [1, 0, 0, 0, 0, 0, 0, 0, 0, 0, 0, 0, 0]])"
      ]
     },
     "execution_count": 8,
     "metadata": {},
     "output_type": "execute_result"
    }
   ],
   "source": [
    "documents2 = [\"Cat: Where are you going?\",\n",
    "            \"Alice: Which way should I go?\"]\n",
    "X12 = vectorizer.transform(documents2).toarray()\n",
    "X12"
   ]
  },
  {
   "cell_type": "markdown",
   "metadata": {},
   "source": [
    "### Intermezzo: Search engine "
   ]
  },
  {
   "cell_type": "code",
   "execution_count": 9,
   "metadata": {},
   "outputs": [
    {
     "name": "stdout",
     "output_type": "stream",
     "text": [
      "[ score: 3 ] Oh, you can’t help that, said the Cat: we’re all mad here. I’m mad. You’re mad.\n",
      "[ score: 2 ] How do you know I’m mad? said Alice.\n",
      "[ score: 2 ] But I don’t want to go among mad people, Alice remarked.\n"
     ]
    }
   ],
   "source": [
    "# Document collection\n",
    "D = X.toarray()\n",
    "\n",
    "# query\n",
    "q = vectorizer.transform([\"is alice mad?\"]).toarray()\n",
    "\n",
    "# Do the search by computing the dot product\n",
    "res = D * q\n",
    "\n",
    "# Sort highest ranked documents and show only documents with a score > 0\n",
    "res_ranked = np.sum(res, axis=1)\n",
    "res_index_sorted = np.argsort(res_ranked)[::-1]\n",
    "res_index_sorted_filtered = res_index_sorted[res_ranked[res_index_sorted] > 0]\n",
    "\n",
    "# Print the search results\n",
    "for index in res_index_sorted_filtered:\n",
    "    print('[ score: {} ] {}'.format(res_ranked[index], documents[index]))"
   ]
  },
  {
   "cell_type": "markdown",
   "metadata": {},
   "source": [
    "### Transformer\n",
    "\n",
    "With a count vectorizer, every word gets counted with the same weight, making frequently occuring words too important. There are several ways to penalizing frequent occuring words and rewarding rare occuring words. The most well known method is called term frequency - inverse document frequency (TF-IDF). TfIdf is implemented in scikit-learn as `TfidfTransformer`. Another algoritm is Okapi-BM25. "
   ]
  },
  {
   "cell_type": "code",
   "execution_count": 10,
   "metadata": {},
   "outputs": [
    {
     "data": {
      "text/plain": [
       "array([[0.352, 0.   , 0.   , 0.446, 0.   , 0.   , 0.285, 0.   , 0.446, 0.446, 0.   , 0.446, 0.   ],\n",
       "       [0.   , 0.305, 0.   , 0.   , 0.386, 0.   , 0.74 , 0.386, 0.   , 0.   , 0.247, 0.   , 0.   ],\n",
       "       [0.505, 0.   , 0.   , 0.   , 0.   , 0.641, 0.409, 0.   , 0.   , 0.   , 0.409, 0.   , 0.   ],\n",
       "       [0.   , 0.453, 0.575, 0.   , 0.   , 0.   , 0.   , 0.   , 0.   , 0.   , 0.367, 0.   , 0.575]])"
      ]
     },
     "execution_count": 10,
     "metadata": {},
     "output_type": "execute_result"
    }
   ],
   "source": [
    "transformer = TfidfTransformer()\n",
    "Xt = transformer.fit_transform(X)\n",
    "Xt.toarray()"
   ]
  },
  {
   "cell_type": "markdown",
   "metadata": {},
   "source": [
    "### Stopwords"
   ]
  },
  {
   "cell_type": "code",
   "execution_count": 11,
   "metadata": {},
   "outputs": [
    {
     "name": "stdout",
     "output_type": "stream",
     "text": [
      "i, me, my, myself, we, our, ours, ourselves, you, you're, you've, you'll, you'd, your, yours, yourself, yourselves, he, him, his, himself, she, she's, her, hers, herself, it, it's, its, itself, they, them, their, theirs, themselves, what, which, who, whom, this, that, that'll, these, those, am, is, are, was, were, be, been, being, have, has, had, having, do, does, did, doing, a, an, the, and, but, if, or, because, as, until, while, of, at, by, for, with, about, against, between, into, through, during, before, after, above, below, to, from, up, down, in, out, on, off, over, under, again, further, then, once, here, there, when, where, why, how, all, any, both, each, few, more, most, other, some, such, no, nor, not, only, own, same, so, than, too, very, s, t, can, will, just, don, don't, should, should've, now, d, ll, m, o, re, ve, y, ain, aren, aren't, couldn, couldn't, didn, didn't, doesn, doesn't, hadn, hadn't, hasn, hasn't, haven, haven't, isn, isn't, ma, mightn, mightn't, mustn, mustn't, needn, needn't, shan, shan't, shouldn, shouldn't, wasn, wasn't, weren, weren't, won, won't, wouldn, wouldn't, "
     ]
    }
   ],
   "source": [
    "for word in nltk.corpus.stopwords.words('english'):\n",
    "    print('{}, '.format(word), end='')"
   ]
  },
  {
   "cell_type": "markdown",
   "metadata": {},
   "source": [
    "### Stemming"
   ]
  },
  {
   "cell_type": "code",
   "execution_count": 12,
   "metadata": {},
   "outputs": [
    {
     "name": "stdout",
     "output_type": "stream",
     "text": [
      "['computer', 'computers', 'computing', 'computed']\n",
      "['comput', 'comput', 'comput', 'comput']\n"
     ]
    }
   ],
   "source": [
    "doc11 = 'computer computers computing computed'\n",
    "print(no_stemmed(doc11))\n",
    "print(stemmed(doc11))"
   ]
  },
  {
   "cell_type": "markdown",
   "metadata": {},
   "source": [
    "## Load and prepare the data"
   ]
  },
  {
   "cell_type": "code",
   "execution_count": 13,
   "metadata": {
    "scrolled": true
   },
   "outputs": [
    {
     "data": {
      "text/html": [
       "<div>\n",
       "<style scoped>\n",
       "    .dataframe tbody tr th:only-of-type {\n",
       "        vertical-align: middle;\n",
       "    }\n",
       "\n",
       "    .dataframe tbody tr th {\n",
       "        vertical-align: top;\n",
       "    }\n",
       "\n",
       "    .dataframe thead th {\n",
       "        text-align: right;\n",
       "    }\n",
       "</style>\n",
       "<table border=\"1\" class=\"dataframe\">\n",
       "  <thead>\n",
       "    <tr style=\"text-align: right;\">\n",
       "      <th></th>\n",
       "      <th>ts</th>\n",
       "      <th>user</th>\n",
       "      <th>text</th>\n",
       "      <th>class</th>\n",
       "      <th>key</th>\n",
       "    </tr>\n",
       "  </thead>\n",
       "  <tbody>\n",
       "    <tr>\n",
       "      <th>0</th>\n",
       "      <td>1.503303e+09</td>\n",
       "      <td>Balaemar</td>\n",
       "      <td>I have to pick up my car from the garage tomor...</td>\n",
       "      <td>1</td>\n",
       "      <td>1503303350U035FRUCY</td>\n",
       "    </tr>\n",
       "    <tr>\n",
       "      <th>1</th>\n",
       "      <td>1.503302e+09</td>\n",
       "      <td>Ragaenys</td>\n",
       "      <td>I won’t be here tomorrow, one day vacation</td>\n",
       "      <td>2</td>\n",
       "      <td>1503301710U4A2FRAQ4</td>\n",
       "    </tr>\n",
       "    <tr>\n",
       "      <th>2</th>\n",
       "      <td>1.503296e+09</td>\n",
       "      <td>Myke</td>\n",
       "      <td>Missed connection in Zurich. Will be about 5-1...</td>\n",
       "      <td>1</td>\n",
       "      <td>1503296123U0MGNKETU</td>\n",
       "    </tr>\n",
       "    <tr>\n",
       "      <th>3</th>\n",
       "      <td>1.503260e+09</td>\n",
       "      <td>Drevyn</td>\n",
       "      <td>Enjoy!</td>\n",
       "      <td>8</td>\n",
       "      <td>1503259722U035B8PRU</td>\n",
       "    </tr>\n",
       "    <tr>\n",
       "      <th>4</th>\n",
       "      <td>1.503258e+09</td>\n",
       "      <td>Gaelralis</td>\n",
       "      <td>I am away for 2 weeks in iceland :flag-is:</td>\n",
       "      <td>2</td>\n",
       "      <td>1503258060U0HLAK1T6</td>\n",
       "    </tr>\n",
       "    <tr>\n",
       "      <th>5</th>\n",
       "      <td>1.503223e+09</td>\n",
       "      <td>Gonaleos</td>\n",
       "      <td>Monday is the first day in school for my son a...</td>\n",
       "      <td>1</td>\n",
       "      <td>1503222795U3W886EF4</td>\n",
       "    </tr>\n",
       "    <tr>\n",
       "      <th>6</th>\n",
       "      <td>1.503063e+09</td>\n",
       "      <td>Vaerys</td>\n",
       "      <td>Going to leave around 4:50 because I need to g...</td>\n",
       "      <td>1</td>\n",
       "      <td>1503063218U0PLNK7EK</td>\n",
       "    </tr>\n",
       "    <tr>\n",
       "      <th>7</th>\n",
       "      <td>1.503059e+09</td>\n",
       "      <td>Taengaeron</td>\n",
       "      <td>I am away between 3-4 for private stuff, be ba...</td>\n",
       "      <td>1</td>\n",
       "      <td>1503059074U4C55CKGX</td>\n",
       "    </tr>\n",
       "    <tr>\n",
       "      <th>8</th>\n",
       "      <td>1.503058e+09</td>\n",
       "      <td>Baegar</td>\n",
       "      <td>I will move to HO. I will be in 2 different Te...</td>\n",
       "      <td>3</td>\n",
       "      <td>1503057526U035J4RG4</td>\n",
       "    </tr>\n",
       "    <tr>\n",
       "      <th>9</th>\n",
       "      <td>1.503057e+09</td>\n",
       "      <td>Eliar</td>\n",
       "      <td>Need to leave around 16:45. Will be available ...</td>\n",
       "      <td>1</td>\n",
       "      <td>1503056595U0A8NPHRD</td>\n",
       "    </tr>\n",
       "  </tbody>\n",
       "</table>\n",
       "</div>"
      ],
      "text/plain": [
       "             ts        user  \\\n",
       "0  1.503303e+09    Balaemar   \n",
       "1  1.503302e+09    Ragaenys   \n",
       "2  1.503296e+09        Myke   \n",
       "3  1.503260e+09      Drevyn   \n",
       "4  1.503258e+09   Gaelralis   \n",
       "5  1.503223e+09    Gonaleos   \n",
       "6  1.503063e+09      Vaerys   \n",
       "7  1.503059e+09  Taengaeron   \n",
       "8  1.503058e+09      Baegar   \n",
       "9  1.503057e+09       Eliar   \n",
       "\n",
       "                                                text  class  \\\n",
       "0  I have to pick up my car from the garage tomor...      1   \n",
       "1         I won’t be here tomorrow, one day vacation      2   \n",
       "2  Missed connection in Zurich. Will be about 5-1...      1   \n",
       "3                                             Enjoy!      8   \n",
       "4         I am away for 2 weeks in iceland :flag-is:      2   \n",
       "5  Monday is the first day in school for my son a...      1   \n",
       "6  Going to leave around 4:50 because I need to g...      1   \n",
       "7  I am away between 3-4 for private stuff, be ba...      1   \n",
       "8  I will move to HO. I will be in 2 different Te...      3   \n",
       "9  Need to leave around 16:45. Will be available ...      1   \n",
       "\n",
       "                   key  \n",
       "0  1503303350U035FRUCY  \n",
       "1  1503301710U4A2FRAQ4  \n",
       "2  1503296123U0MGNKETU  \n",
       "3  1503259722U035B8PRU  \n",
       "4  1503258060U0HLAK1T6  \n",
       "5  1503222795U3W886EF4  \n",
       "6  1503063218U0PLNK7EK  \n",
       "7  1503059074U4C55CKGX  \n",
       "8  1503057526U035J4RG4  \n",
       "9  1503056595U0A8NPHRD  "
      ]
     },
     "execution_count": 13,
     "metadata": {},
     "output_type": "execute_result"
    }
   ],
   "source": [
    "df_cls_messages = pd.read_pickle('data/messages-cls.pkl')\n",
    "df_cls_messages.head(10)"
   ]
  },
  {
   "cell_type": "code",
   "execution_count": 14,
   "metadata": {},
   "outputs": [
    {
     "name": "stdout",
     "output_type": "stream",
     "text": [
      "[.] Number of training samples: 1719\n"
     ]
    }
   ],
   "source": [
    "# Remove all rows which have no annotation\n",
    "samples = df_cls_messages.dropna()\n",
    "\n",
    "# Convert the classification column to unsigned int, in case it is stored as string\n",
    "samples['class'] = samples.loc[:, 'class'].astype(np.uint8).values\n",
    "\n",
    "X = samples['text']\n",
    "y = samples['class']\n",
    "\n",
    "print('[.] Number of training samples: {}'.format(len(X)))"
   ]
  },
  {
   "cell_type": "code",
   "execution_count": 15,
   "metadata": {},
   "outputs": [],
   "source": [
    "X_train, X_test, y_train, y_test = train_test_split(X, y, test_size=0.20, random_state=1)"
   ]
  },
  {
   "cell_type": "markdown",
   "metadata": {},
   "source": [
    "## Building a pipeline and training the first model\n",
    "\n",
    "Scikit Learn offers a great way to combine the preprocessing (vectorization, stemming, stopword removal, etc) and training/predicting by building a pipeline. Let's see how that works...\n",
    "\n",
    "More information on pipelines, look at this nice blog post:\n",
    "\n",
    "https://buhrmann.github.io/sklearn-pipelines.html"
   ]
  },
  {
   "cell_type": "code",
   "execution_count": null,
   "metadata": {},
   "outputs": [],
   "source": [
    "steps = [('vectorizer', CountVectorizer()),\n",
    "         ('classifier', LinearSVC(random_state=1))]\n",
    "pipeline1 = train_and_test(steps, X_train, X_test, y_train, y_test)"
   ]
  },
  {
   "cell_type": "code",
   "execution_count": null,
   "metadata": {},
   "outputs": [],
   "source": [
    "y_pred = pipeline1.predict(X_test)\n",
    "cm = confusion_matrix(y_pred=y_pred, y_true=y_test)\n",
    "plt.figure()\n",
    "plot_confusion_matrix(cm, classes=dict_classes.values(), normalize=True);"
   ]
  },
  {
   "cell_type": "markdown",
   "metadata": {},
   "source": [
    "Let's see what parameters are available and have been set by default:"
   ]
  },
  {
   "cell_type": "code",
   "execution_count": null,
   "metadata": {},
   "outputs": [],
   "source": [
    "pipeline1.get_params()"
   ]
  },
  {
   "cell_type": "markdown",
   "metadata": {},
   "source": [
    "All objects in the pipeline are stored in a dictonary. You can easily access them like any ordinary python dictionary. E.g. you want to transform only a document to a vector. This can be useful if you want to have the output of the preprocessing step for plotting or further analysis. "
   ]
  },
  {
   "cell_type": "code",
   "execution_count": null,
   "metadata": {},
   "outputs": [],
   "source": [
    "vectorizer = pipeline1.get_params()['vectorizer']\n",
    "vectorizer.transform(['A new document']).toarray()"
   ]
  },
  {
   "cell_type": "markdown",
   "metadata": {},
   "source": [
    "Let's add a TF-IDF transformer that suppress the weight of common words and make special words more important."
   ]
  },
  {
   "cell_type": "code",
   "execution_count": null,
   "metadata": {},
   "outputs": [],
   "source": [
    "steps = [('vectorizer', CountVectorizer()),\n",
    "         ('tfidf', TfidfTransformer()),\n",
    "         ('classifier', LinearSVC(random_state=1))]\n",
    "pipeline2 = train_and_test(steps, X_train, X_test, y_train, y_test)"
   ]
  },
  {
   "cell_type": "code",
   "execution_count": null,
   "metadata": {},
   "outputs": [],
   "source": [
    "steps = [('vectorizer', CountVectorizer(analyzer=stemmed)),\n",
    "         ('tfidf', TfidfTransformer()),\n",
    "         ('classifier', LinearSVC(random_state=1))]\n",
    "pipeline3 = train_and_test(steps, X_train, X_test, y_train, y_test)"
   ]
  },
  {
   "cell_type": "code",
   "execution_count": null,
   "metadata": {},
   "outputs": [],
   "source": [
    "steps = [('vectorizer', CountVectorizer(analyzer=stemmed, \n",
    "                                        stop_words='english')),\n",
    "        ('tfidf', TfidfTransformer()),\n",
    "        ('classifier', LinearSVC(random_state=1))]\n",
    "pipeline4 = train_and_test(steps, X_train, X_test, y_train, y_test)"
   ]
  },
  {
   "cell_type": "code",
   "execution_count": null,
   "metadata": {},
   "outputs": [],
   "source": [
    "steps = [('vectorizer', CountVectorizer(ngram_range=(1, 2))),\n",
    "         ('tfidf', TfidfTransformer()),\n",
    "         ('classifier', LinearSVC(random_state=1))]\n",
    "pipeline5 = train_and_test(steps, X_train, X_test, y_train, y_test)"
   ]
  },
  {
   "cell_type": "code",
   "execution_count": null,
   "metadata": {},
   "outputs": [],
   "source": [
    "steps = [('vectorizer', CountVectorizer(ngram_range=(1, 3))),\n",
    "         ('tfidf', TfidfTransformer()),\n",
    "         ('classifier', LinearSVC(random_state=1))]\n",
    "pipeline6 = train_and_test(steps, X_train, X_test, y_train, y_test)"
   ]
  },
  {
   "cell_type": "code",
   "execution_count": null,
   "metadata": {},
   "outputs": [],
   "source": [
    "steps = [('vectorizer', CountVectorizer(preprocessor=mask_all, \n",
    "                                        analyzer=stemmed, \n",
    "                                        stop_words='english', \n",
    "                                        ngram_range=(1, 3))),\n",
    "         ('tfidf', TfidfTransformer()),\n",
    "         ('classifier', LinearSVC(random_state=1))]\n",
    "pipeline7 = train_and_test(steps, X_train, X_test, y_train, y_test)"
   ]
  },
  {
   "cell_type": "markdown",
   "metadata": {},
   "source": [
    "## One vs Rest Classifiers\n",
    "\n",
    "Let's train 8 classifiers: One vs Rest"
   ]
  },
  {
   "cell_type": "code",
   "execution_count": null,
   "metadata": {},
   "outputs": [],
   "source": [
    "enc = OneHotEncoder()\n",
    "ym_train = enc.fit_transform(np.array(y_train.tolist()).reshape(-1,1))\n",
    "ym_test = enc.transform(np.array(y_test.tolist()).reshape(-1,1))\n",
    "\n",
    "steps = [('vectorizer', CountVectorizer(analyzer=stemmed, \n",
    "                                        stop_words='english', \n",
    "                                        preprocessor=mask_all)),\n",
    "         ('transformer', TfidfTransformer()),\n",
    "         ('classifier', OneVsRestClassifier(LinearSVC(random_state=1, multi_class='ovr')))]\n",
    "pipeline8 = train_and_test(steps, X_train, X_test, ym_train, ym_test)"
   ]
  },
  {
   "cell_type": "code",
   "execution_count": null,
   "metadata": {
    "scrolled": false
   },
   "outputs": [],
   "source": [
    "steps = [('vectorizer', CountVectorizer(ngram_range=(1,3), \n",
    "                                        analyzer=stemmed, \n",
    "                                        stop_words='english', \n",
    "                                        preprocessor=mask_all)),\n",
    "         ('transformer', TfidfTransformer()),\n",
    "         ('classifier', OneVsOneClassifier(LinearSVC(random_state=1, multi_class='ovr')))]\n",
    "pipeline9 = train_and_test(steps, X_train, X_test, y_train, y_test)"
   ]
  },
  {
   "cell_type": "code",
   "execution_count": null,
   "metadata": {},
   "outputs": [],
   "source": [
    "y_pred = pipeline9.predict(X_test)\n",
    "\n",
    "print(classification_report(y_pred=y_pred, y_true=y_test))"
   ]
  },
  {
   "cell_type": "code",
   "execution_count": null,
   "metadata": {},
   "outputs": [],
   "source": [
    "cm = confusion_matrix(y_pred=y_pred, y_true=y_test)\n",
    "plt.figure()\n",
    "plot_confusion_matrix(cm, classes=dict_classes.values(), normalize=True);"
   ]
  },
  {
   "cell_type": "code",
   "execution_count": null,
   "metadata": {},
   "outputs": [],
   "source": [
    "%%time\n",
    "\n",
    "steps = [('vectorizer', CountVectorizer()),\n",
    "         ('transformer', TfidfTransformer()),\n",
    "         ('classifier', LinearSVC(random_state=1))]\n",
    "pipeline10 = Pipeline(steps)\n",
    "\n",
    "params = {\n",
    "    'vectorizer__tokenizer': [None, nltk.tokenize.word_tokenize],\n",
    "    'vectorizer__analyzer': ['word', stemmed],\n",
    "    'vectorizer__stop_words': [None, nltk.corpus.stopwords.words('english'), 'english'],\n",
    "    'vectorizer__ngram_range': [(1, 1), (1, 2), (2, 2), (1, 3)],\n",
    "    'vectorizer__preprocessor': [None, mask_all, mask_integers, mask_times, mask_emojis]\n",
    "    'classifier__C': np.logspace(-2, 2, 5),\n",
    "    'classifier__gamma': np.logspace(-5, 3, 9)\n",
    "}\n",
    "\n",
    "gs = GridSearchCV(pipeline10, params, n_jobs=-1)\n",
    "gs.fit(X_train, y_train)\n",
    "\n",
    "print(gs.best_params_)\n",
    "y_pred = gs.predict(X_test)\n",
    "print(classification_report(y_pred=y_pred, y_true=y_test))\n",
    "print('Score on the test set: {:.2f}'.format(gs.score(X_test, y_test)))"
   ]
  },
  {
   "cell_type": "markdown",
   "metadata": {},
   "source": [
    "You can try a gridsearch with another classifier. But it is hard to beat Linear SVM."
   ]
  },
  {
   "cell_type": "code",
   "execution_count": 19,
   "metadata": {},
   "outputs": [
    {
     "name": "stdout",
     "output_type": "stream",
     "text": [
      "{'classifier__bootstrap': False, 'classifier__criterion': 'gini', 'classifier__max_depth': None, 'classifier__min_samples_leaf': 1, 'classifier__min_samples_split': 8, 'classifier__n_estimators': 2048}\n",
      "             precision    recall  f1-score   support\n",
      "\n",
      "          1       0.77      0.88      0.82       100\n",
      "          2       0.74      0.74      0.74        35\n",
      "          3       0.82      0.89      0.85        95\n",
      "          4       0.93      0.54      0.68        26\n",
      "          5       0.83      0.45      0.59        11\n",
      "          6       0.88      0.70      0.78        30\n",
      "          7       1.00      0.17      0.29         6\n",
      "          8       0.84      0.90      0.87        41\n",
      "\n",
      "avg / total       0.81      0.81      0.80       344\n",
      "\n",
      "Score on the test set: 0.81\n",
      "CPU times: user 14.8 s, sys: 277 ms, total: 15.1 s\n",
      "Wall time: 1min 36s\n"
     ]
    }
   ],
   "source": [
    "%%time\n",
    "\n",
    "steps = [('vectorizer', CountVectorizer()),\n",
    "         ('transformer', TfidfTransformer()),\n",
    "         ('classifier', RandomForestClassifier())]\n",
    "pipeline11 = Pipeline(steps)\n",
    "\n",
    "params = {\n",
    "    'vectorizer__tokenizer': [None, nltk.tokenize.word_tokenize],\n",
    "    'vectorizer__analyzer': ['word', stemmed],\n",
    "    'vectorizer__stop_words': [None, nltk.corpus.stopwords.words('english'), 'english'],\n",
    "    'vectorizer__ngram_range': [(1, 1), (1, 2), (2, 2), (1, 3)],\n",
    "    'vectorizer__preprocessor': [None, mask_all, mask_integers, mask_times, mask_emojis]\n",
    "    'classifier__n_estimators': [128, 512, 2048],\n",
    "    'classifier__bootstrap': [True, False],\n",
    "    'classifier__criterion': ['gini', 'entropy'], \n",
    "    'classifier__max_depth': [2, 4, 8, None],\n",
    "    'classifier__min_samples_leaf': [1, 3, 10], \n",
    "    'classifier__min_samples_split': [2, 8, 16]\n",
    "}\n",
    "\n",
    "gs = GridSearchCV(pipeline11, params, n_jobs=-1)\n",
    "gs.fit(X_train, y_train)\n",
    "\n",
    "print(gs.best_params_)\n",
    "y_pred = gs.predict(X_test)\n",
    "print(classification_report(y_pred=y_pred, y_true=y_test))\n",
    "print('Score on the test set: {:.2f}'.format(gs.score(X_test, y_test)))"
   ]
  },
  {
   "cell_type": "code",
   "execution_count": null,
   "metadata": {},
   "outputs": [],
   "source": [
    "pipeline = gs\n",
    "\n",
    "tag_message(pipeline, 'My alarm clock was not set properly. I come to the office asap.')\n",
    "tag_message(pipeline, 'It is my scheduled day off, see you on Tuesday.')\n",
    "tag_message(pipeline, 'Not feeling well today, I stay home and work from here.')\n",
    "tag_message(pipeline, 'I work at home on Tuesday.')\n",
    "tag_message(pipeline, 'This morning I have a meeting at SPS.')\n",
    "tag_message(pipeline, 'I\\'m off, see you tomorrow.')\n",
    "tag_message(pipeline, 'get well soon!')\n",
    "tag_message(pipeline, 'I\\'m away for a long lunch between 12:00 and 15:30')\n",
    "tag_message(pipeline, 'I\\'ve an appointment at 12:00 at the physiotherapy.')"
   ]
  }
 ],
 "metadata": {
  "kernelspec": {
   "display_name": "Python 3",
   "language": "python",
   "name": "python3"
  },
  "language_info": {
   "codemirror_mode": {
    "name": "ipython",
    "version": 3
   },
   "file_extension": ".py",
   "mimetype": "text/x-python",
   "name": "python",
   "nbconvert_exporter": "python",
   "pygments_lexer": "ipython3",
   "version": "3.6.5"
  }
 },
 "nbformat": 4,
 "nbformat_minor": 2
}
